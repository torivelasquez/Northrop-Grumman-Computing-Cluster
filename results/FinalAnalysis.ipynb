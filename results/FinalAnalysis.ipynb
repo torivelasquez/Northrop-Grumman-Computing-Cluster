{
 "cells": [
  {
   "cell_type": "code",
   "execution_count": 2,
   "metadata": {},
   "outputs": [
    {
     "data": {
      "text/plain": [
       "odict_keys(['Timestamp', 'Net Type', 'Train Data Location', 'Test Data Location', 'Images Location', 'Plots Location', 'Save Location', 'Load Location', 'Epochs', 'Layers', 'Momentum', 'Learning Rate', 'Criterion', 'Optimizer', 'Train Transform', 'Test Transform', 'Grayscale', 'Overall Accuracy', 'MAUC Score', 'Classes', 'Class Accuracies', 'Class AUC Scores', 'Class 95% CIs', 'P-Value [Acc > NIR]', 'Kappa', 'Population', 'P: Condition positive', 'N: Condition negative', 'Test outcome positive', 'Test outcome negative', 'TP: True Positive', 'TN: True Negative', 'FP: False Positive', 'FN: False Negative', 'TPR: (Sensitivity, hit rate, recall)', 'TNR=SPC: (Specificity)', 'PPV: Pos Pred Value (Precision)', 'NPV: Neg Pred Value', 'FPR: False-out', 'FDR: False Discovery Rate', 'FNR: Miss Rate', 'ACC: Accuracy', 'F1 score', 'MCC: Matthews correlation coefficient', 'Informedness', 'Markedness', 'Prevalence', 'LR+: Positive likelihood ratio', 'LR-: Negative likelihood ratio', 'DOR: Diagnostic odds ratio', 'FOR: False omission rate', 'Confusion Matrix', '\\n'])"
      ]
     },
     "execution_count": 2,
     "metadata": {},
     "output_type": "execute_result"
    }
   ],
   "source": [
    "import csv\n",
    "import numpy as np\n",
    "file = open(\"results2.csv\")\n",
    "reader = csv.DictReader(file)\n",
    "data = []\n",
    "for row in reader:\n",
    "    data.append(row)\n",
    "data[0].keys()"
   ]
  },
  {
   "cell_type": "code",
   "execution_count": 3,
   "metadata": {},
   "outputs": [
    {
     "name": "stdout",
     "output_type": "stream",
     "text": [
      "OrderedDict([('Timestamp', '2018-04-22T11:29:39'), ('Net Type', 'resnet'), ('Train Data Location', 'parser/train.csv'), ('Test Data Location', 'parser/validate.csv'), ('Images Location', 'images/'), ('Plots Location', 'plots/'), ('Save Location', 'run80.pt'), ('Load Location', 'run80.pt'), ('Epochs', '80'), ('Layers', 'D'), ('Momentum', '0.5'), ('Learning Rate', '0.1'), ('Criterion', 'crossentropy'), ('Optimizer', 'sgd'), ('Train Transform', 'main'), ('Test Transform', 'main'), ('Grayscale', 'False'), ('Overall Accuracy', '74.5796241345'), ('MAUC Score', '0.940862636529'), ('Classes', 'SUV;SEDAN;HATCHBACK;CONVERTIBLE;COUPE;WAGON;TRUCK;VAN'), ('Class Accuracies', '86.4516129032;77.9661016949;51.2;62.6213592233;53.3834586466;30.0;86.5612648221;87.4686716792'), ('Class AUC Scores', '0.978583810672;0.937486174169;0.927658408013;0.93878576622;0.920284052957;0.912099391481;0.987498799036;0.987849321393'), ('Class 95% CIs', '0.973157415833:0.983957913631;0.92833053007:0.947084363505;0.911434147655:0.942562170013;0.925414087335:0.950387195582;0.908743764765:0.93185721721;0.883290017873:0.93954509957;0.981890683943:0.992353400416;0.983890667703:0.991844265857'), ('P-Value [Acc > NIR]', '0.0'), ('Kappa', '0.69940164236'), ('Population', '2022;2022;2022;2022;2022;2022;2022;2022'), ('P: Condition positive', '310;413;125;206;266;50;253;399'), ('N: Condition negative', '1712;1609;1897;1816;1756;1972;1769;1623'), ('Test outcome positive', '349;463;112;204;234;37;254;369'), ('Test outcome negative', '1673;1559;1910;1818;1788;1985;1768;1653'), ('TP: True Positive', '268;322;64;129;142;15;219;349'), ('TN: True Negative', '1631;1468;1849;1741;1664;1950;1734;1603'), ('FP: False Positive', '81;141;48;75;92;22;35;20'), ('FN: False Negative', '42;91;61;77;124;35;34;50'), ('TPR: (Sensitivity, hit rate, recall)', '0.864516129032;0.779661016949;0.512;0.626213592233;0.533834586466;0.3;0.865612648221;0.874686716792'), ('TNR=SPC: (Specificity)', '0.952686915888;0.912367930392;0.974696889826;0.958700440529;0.947608200456;0.988843813387;0.980214810627;0.987677141097'), ('PPV: Pos Pred Value (Precision)', '0.767908309456;0.695464362851;0.571428571429;0.632352941176;0.606837606838;0.405405405405;0.862204724409;0.945799457995'), ('NPV: Neg Pred Value', '0.97489539749;0.941629249519;0.968062827225;0.957645764576;0.930648769575;0.982367758186;0.980769230769;0.969751966122'), ('FPR: False-out', '0.0473130841121;0.0876320696085;0.025303110174;0.0412995594714;0.0523917995444;0.0111561866126;0.0197851893725;0.0123228589033'), ('FDR: False Discovery Rate', '0.232091690544;0.304535637149;0.428571428571;0.367647058824;0.393162393162;0.594594594595;0.137795275591;0.0542005420054'), ('FNR: Miss Rate', '0.135483870968;0.220338983051;0.488;0.373786407767;0.466165413534;0.7;0.134387351779;0.125313283208'), ('ACC: Accuracy', '0.939169139466;0.885262116716;0.94609297725;0.924826904055;0.893175074184;0.971810089021;0.96587537092;0.965380811078'), ('F1 score', '0.813353566009;0.735159817352;0.540084388186;0.629268292683;0.568;0.344827586207;0.863905325444;0.908854166667'), ('MCC: Matthews correlation coefficient', '0.779115813659;0.663993389971;0.512414661981;0.587450867993;0.508693364408;0.334672794385;0.844399501649;0.888559766249'), ('Informedness', '0.81720304492;0.692028947341;0.486696889826;0.584914032762;0.481442786922;0.288843813387;0.845827458849;0.862363857889'), ('Markedness', '0.742803706945;0.63709361237;0.539491398654;0.589998705753;0.537486376413;0.387773163592;0.842973955179;0.915551424117'), ('Prevalence', '0.15331355094;0.204253214639;0.0618199802176;0.101879327399;0.131552917903;0.024727992087;0.12512363996;0.197329376855'), ('LR+: Positive likelihood ratio', '18.2722421346;8.89698281043;20.2346666667;15.1627184466;10.1892775417;26.8909090909;43.7505364201;70.9808270677'), ('LR-: Negative likelihood ratio', '0.142212377129;0.24150233224;0.500668469443;0.389888636706;0.491938982071;0.707897435897;0.137099899248;0.126876767715'), ('DOR: Diagnostic odds ratio', '128.485596708;36.840152755;40.4153005464;38.8898701299;20.7124824684;37.987012987;319.114285714;559.447'), ('FOR: False omission rate', '0.0251046025105;0.0583707504811;0.0319371727749;0.0423542354235;0.0693512304251;0.0176322418136;0.0192307692308;0.0302480338778'), ('Confusion Matrix', '268:13:3:1:2:3:14:6;16:322:16:19:27:4:4:5;16:17:64:3:22:2:0:1;4:36:8:129:28:1:0:0;4:49:16:48:142:6:1:0;12:11:3:2:4:15:2:1;14:4:2:1:4:2:219:7;15:11:0:1:5:4:14:349'), ('\\n', '\\n')])\n"
     ]
    }
   ],
   "source": [
    "print(data[0])"
   ]
  },
  {
   "cell_type": "code",
   "execution_count": 4,
   "metadata": {},
   "outputs": [],
   "source": [
    "def printRowInfo(row, prepend = \"\"):\n",
    "    print( prepend + \"Epochs: \" + row[\"Epochs\"].ljust(3) + \" Momen: \" + row[\"Momentum\"].ljust(5) + \" LR: \" + row[\"Learning Rate\"].ljust(6) + \" Acc: \" + row[\"Overall Accuracy\"].ljust(15) + \" MAUC: \" + row[\"MAUC Score\"])"
   ]
  },
  {
   "cell_type": "code",
   "execution_count": 5,
   "metadata": {},
   "outputs": [
    {
     "name": "stdout",
     "output_type": "stream",
     "text": [
      "0: Epochs: 80  Momen: 0.5   LR: 0.1    Acc: 74.5796241345   MAUC: 0.940862636529\n",
      "1: Epochs: 100 Momen: 0.5   LR: 0.1    Acc: 72.3541048467   MAUC: 0.935510630812\n",
      "2: Epochs: 60  Momen: 0.5   LR: 0.1    Acc: 72.417202175    MAUC: 0.931149198428\n",
      "3: Epochs: 60  Momen: 0.5   LR: 0.1    Acc: 72.7002967359   MAUC: 0.928423555036\n"
     ]
    }
   ],
   "source": [
    "import sys\n",
    "highest = {\"Overall Accuracy\" : 0}\n",
    "i = 0\n",
    "for row in data:\n",
    "    printRowInfo(row, str(i) + \": \")\n",
    "    i += 1"
   ]
  },
  {
   "cell_type": "code",
   "execution_count": 7,
   "metadata": {},
   "outputs": [
    {
     "name": "stdout",
     "output_type": "stream",
     "text": [
      "SUV            72.5806451613       \n",
      "SEDAN          72.6392251816       \n",
      "HATCHBACK      44.8                \n",
      "CONVERTIBLE    64.5631067961       \n",
      "COUPE          64.6616541353       \n",
      "WAGON          31.3725490196       \n",
      "TRUCK          83.7944664032       \n",
      "VAN            87.969924812        \n"
     ]
    }
   ],
   "source": [
    "for i in range(len(data[0][\"Classes\"].split(\";\"))):\n",
    "    print( str(data[0][\"Classes\"].split(\";\")[i]).ljust(15) + str(data[2][\"Class Accuracies\"].split(\";\")[i]).ljust(20))"
   ]
  },
  {
   "cell_type": "code",
   "execution_count": 11,
   "metadata": {},
   "outputs": [
    {
     "name": "stdout",
     "output_type": "stream",
     "text": [
      "SUV;SEDAN;HATCHBACK;CONVERTIBLE;COUPE;WAGON;TRUCK;VAN\n",
      "225:25:14:6:7:5:12:16;7:300:19:22:51:5:4:5;13:17:56:3:19:6:2:9;4:22:4:133:38:2:2:1;3:48:10:21:172:3:2:7;8:7:7:3:5:16:0:5;10:3:2:2:4:2:212:18;14:11:4:1:4:1:13:351\n",
      "[['225', '25', '14', '6', '7', '5', '12', '16'], ['7', '300', '19', '22', '51', '5', '4', '5'], ['13', '17', '56', '3', '19', '6', '2', '9'], ['4', '22', '4', '133', '38', '2', '2', '1'], ['3', '48', '10', '21', '172', '3', '2', '7'], ['8', '7', '7', '3', '5', '16', '0', '5'], ['10', '3', '2', '2', '4', '2', '212', '18'], ['14', '11', '4', '1', '4', '1', '13', '351']]\n"
     ]
    }
   ],
   "source": [
    "print(data[2][\"Classes\"])\n",
    "print(data[2][\"Confusion Matrix\"])\n",
    "conf_mat = []\n",
    "for line in data[2][\"Confusion Matrix\"].split(\";\"):\n",
    "    conf_mat.append(line.split(\":\"))\n",
    "print(conf_mat)"
   ]
  },
  {
   "cell_type": "code",
   "execution_count": null,
   "metadata": {},
   "outputs": [],
   "source": []
  }
 ],
 "metadata": {
  "kernelspec": {
   "display_name": "Python 3",
   "language": "python",
   "name": "python3"
  },
  "language_info": {
   "codemirror_mode": {
    "name": "ipython",
    "version": 3
   },
   "file_extension": ".py",
   "mimetype": "text/x-python",
   "name": "python",
   "nbconvert_exporter": "python",
   "pygments_lexer": "ipython3",
   "version": "3.6.4"
  }
 },
 "nbformat": 4,
 "nbformat_minor": 2
}
