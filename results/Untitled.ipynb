{
 "cells": [
  {
   "cell_type": "code",
   "execution_count": 1,
   "metadata": {},
   "outputs": [
    {
     "data": {
      "text/plain": [
       "odict_keys(['Timestamp', 'Net Type', 'Train Data Location', 'Test Data Location', 'Images Location', 'Plots Location', 'Save Location', 'Load Location', 'Epochs', 'Layers', 'Momentum', 'Learning Rate', 'Criterion', 'Optimizer', 'Train Transform', 'Test Transform', 'Grayscale', 'Overall Accuracy', 'MAUC Score', 'Classes', 'Class Accuracies', 'Class AUC Scores', 'Class 95% CIs', 'P-Value [Acc > NIR]', 'Kappa', 'Population', 'P: Condition positive', 'N: Condition negative', 'Test outcome positive', 'Test outcome negative', 'TP: True Positive', 'TN: True Negative', 'FP: False Positive', 'FN: False Negative', 'TPR: (Sensitivity, hit rate, recall)', 'TNR=SPC: (Specificity)', 'PPV: Pos Pred Value (Precision)', 'NPV: Neg Pred Value', 'FPR: False-out', 'FDR: False Discovery Rate', 'FNR: Miss Rate', 'ACC: Accuracy', 'F1 score', 'MCC: Matthews correlation coefficient', 'Informedness', 'Markedness', 'Prevalence', 'LR+: Positive likelihood ratio', 'LR-: Negative likelihood ratio', 'DOR: Diagnostic odds ratio', 'FOR: False omission rate', 'Confusion Matrix', '\\n'])"
      ]
     },
     "execution_count": 1,
     "metadata": {},
     "output_type": "execute_result"
    }
   ],
   "source": [
    "import csv\n",
    "import numpy as np\n",
    "file = open(\"gridserchresults.csv\")\n",
    "reader = csv.DictReader(file)\n",
    "data = []\n",
    "for row in reader:\n",
    "    data.append(row)\n",
    "data[0].keys()"
   ]
  },
  {
   "cell_type": "code",
   "execution_count": 2,
   "metadata": {},
   "outputs": [
    {
     "name": "stdout",
     "output_type": "stream",
     "text": [
      "OrderedDict([('Timestamp', '2018-04-16T04:32:57'), ('Net Type', 'resnet'), ('Train Data Location', 'parser/train.csv'), ('Test Data Location', 'parser/validate.csv'), ('Images Location', 'images/'), ('Plots Location', 'plots/'), ('Save Location', 'classifier.pt'), ('Load Location', 'classifier.pt'), ('Epochs', '10'), ('Layers', 'D'), ('Momentum', '0.5'), ('Learning Rate', '1e-05'), ('Criterion', 'crossentropy'), ('Optimizer', 'sgd'), ('Train Transform', 'main'), ('Test Transform', 'main'), ('Grayscale', 'False'), ('Overall Accuracy', '70.4253214639'), ('MAUC Score', '0.929407983894'), ('Classes', 'SUV;SEDAN;HATCHBACK;CONVERTIBLE;COUPE;WAGON;TRUCK;VAN'), ('Class Accuracies', '75.8064516129;70.4600484262;41.6;63.1067961165;66.1654135338;10.0;71.5415019763;88.7218045113'), ('Class AUC Scores', '0.961073635815;0.920804132927;0.910055877702;0.951213057611;0.908149502458;0.914249492901;0.958858871607;0.976219044222'), ('Class 95% CIs', '0.95278753015:0.968460401149;0.910420524662:0.930989536888;0.890364286876:0.928412496254;0.939354132458:0.961896877956;0.893839089786:0.922246049661;0.88641578501:0.939485471244;0.949269049776:0.968679460057;0.971028135956:0.98156396184'), ('P-Value [Acc > NIR]', '0.0'), ('Kappa', '0.648941414749'), ('Population', '2022;2022;2022;2022;2022;2022;2022;2022'), ('P: Condition positive', '310;413;125;206;266;50;253;399'), ('N: Condition negative', '1712;1609;1897;1816;1756;1972;1769;1623'), ('Test outcome positive', '300;453;98;175;342;9;226;419'), ('Test outcome negative', '1722;1569;1924;1847;1680;2013;1796;1603'), ('TP: True Positive', '235;291;52;130;176;5;181;354'), ('TN: True Negative', '1647;1447;1851;1771;1590;1968;1724;1558'), ('FP: False Positive', '65;162;46;45;166;4;45;65'), ('FN: False Negative', '75;122;73;76;90;45;72;45'), ('TPR: (Sensitivity, hit rate, recall)', '0.758064516129;0.704600484262;0.416;0.631067961165;0.661654135338;0.1;0.715415019763;0.887218045113'), ('TNR=SPC: (Specificity)', '0.96203271028;0.899316345556;0.975751186083;0.975220264317;0.905466970387;0.997971602434;0.974561899378;0.959950708564'), ('PPV: Pos Pred Value (Precision)', '0.783333333333;0.64238410596;0.530612244898;0.742857142857;0.514619883041;0.555555555556;0.800884955752;0.844868735084'), ('NPV: Neg Pred Value', '0.956445993031;0.922243467177;0.962058212058;0.958852192745;0.946428571429;0.977645305514;0.95991091314;0.971927635683'), ('FPR: False-out', '0.0379672897196;0.100683654444;0.0242488139167;0.0247797356828;0.0945330296128;0.00202839756592;0.0254381006218;0.0400492914356'), ('FDR: False Discovery Rate', '0.216666666667;0.35761589404;0.469387755102;0.257142857143;0.485380116959;0.444444444444;0.199115044248;0.155131264916'), ('FNR: Miss Rate', '0.241935483871;0.295399515738;0.584;0.368932038835;0.338345864662;0.9;0.284584980237;0.112781954887'), ('ACC: Accuracy', '0.930761622156;0.859545004946;0.941147378833;0.940158259149;0.873392680514;0.975766567755;0.942136498516;0.945598417409'), ('F1 score', '0.770491803279;0.672055427252;0.466367713004;0.682414698163;0.578947368421;0.169491525424;0.755741127349;0.865525672372'), ('MCC: Matthews correlation coefficient', '0.729871934705;0.583941858404;0.439322473658;0.652256167381;0.511341675684;0.22855752619;0.724521628189;0.831843953774'), ('Informedness', '0.720097226409;0.603916829818;0.391751186083;0.606288225482;0.567121105726;0.0979716024341;0.689976919141;0.847168753677'), ('Markedness', '0.739779326365;0.564627573137;0.492670456956;0.701709335602;0.46104845447;0.53320086107;0.760795868893;0.816796370767'), ('Prevalence', '0.15331355094;0.204253214639;0.0618199802176;0.101879327399;0.131552917903;0.024727992087;0.12512363996;0.197329376855'), ('LR+: Positive likelihood ratio', '19.9662531017;6.99816159986;17.1554782609;25.4670981661;6.99918470876;49.3;28.1237593325;22.153152111'), ('LR-: Negative likelihood ratio', '0.251483635936;0.328471196146;0.598513236089;0.378306370708;0.373670024117;0.901829268293;0.292013242482;0.117487235418'), ('DOR: Diagnostic odds ratio', '79.3938461538;21.3052519733;28.6634901727;67.3187134503;18.7309236948;54.6666666667;96.3098765432;188.557948718'), ('FOR: False omission rate', '0.0435540069686;0.0777565328235;0.0379417879418;0.041147807255;0.0535714285714;0.0223546944858;0.0400890868597;0.0280723643169'), ('Confusion Matrix', '235:23:11:1:8:3:23:6;12:291:15:8:75:0:5:7;10:29:52:4:27:0:0:3;2:23:5:130:44:0:1:1;2:52:8:24:176:0:0:4;8:16:7:4:7:5:1:2;17:8:0:2:3:0:181:42;14:11:0:2:2:1:15:354'), ('\\n', '\\n')])\n"
     ]
    }
   ],
   "source": [
    "print(data[0])"
   ]
  },
  {
   "cell_type": "code",
   "execution_count": 3,
   "metadata": {},
   "outputs": [],
   "source": [
    "def printRowInfo(row):\n",
    "    print( \"Epochs: \" + row[\"Epochs\"].ljust(3) + \" Momen: \" + row[\"Momentum\"].ljust(5) + \" LR: \" + row[\"Learning Rate\"].ljust(6) + \" Acc: \" + row[\"Overall Accuracy\"].ljust(15) + \" MAUC: \" + row[\"MAUC Score\"])"
   ]
  },
  {
   "cell_type": "code",
   "execution_count": 4,
   "metadata": {},
   "outputs": [
    {
     "name": "stdout",
     "output_type": "stream",
     "text": [
      "Epochs: 10  Momen: 0.5   LR: 1e-05  Acc: 70.4253214639   MAUC: 0.929407983894\n",
      "Epochs: 10  Momen: 0.5   LR: 0.0001 Acc: 85.8555885262   MAUC: 0.979618260237\n",
      "Epochs: 10  Momen: 0.5   LR: 0.001  Acc: 92.9772502473   MAUC: 0.992667738848\n",
      "Epochs: 10  Momen: 0.5   LR: 0.01   Acc: 91.3452027695   MAUC: 0.992548984177\n",
      "Epochs: 10  Momen: 0.5   LR: 0.1    Acc: 74.7774480712   MAUC: 0.948275464678\n",
      "Epochs: 10  Momen: 0.75  LR: 1e-05  Acc: 46.6369930762   MAUC: 0.841562427027\n",
      "Epochs: 10  Momen: 0.75  LR: 0.0001 Acc: 70.9198813056   MAUC: 0.93237278838\n",
      "Epochs: 10  Momen: 0.75  LR: 0.001  Acc: 80.6627101879   MAUC: 0.967298513132\n",
      "Epochs: 10  Momen: 0.75  LR: 0.01   Acc: 82.6409495549   MAUC: 0.971902070693\n",
      "Epochs: 10  Momen: 0.75  LR: 0.1    Acc: 81.6023738872   MAUC: 0.96519559843\n",
      "Epochs: 10  Momen: 0.9   LR: 1e-05  Acc: 65.1829871414   MAUC: 0.913010749795\n",
      "Epochs: 10  Momen: 0.9   LR: 0.0001 Acc: 80.5637982196   MAUC: 0.966374425635\n",
      "Epochs: 10  Momen: 0.9   LR: 0.001  Acc: 82.7398615232   MAUC: 0.971751690052\n",
      "Epochs: 10  Momen: 0.9   LR: 0.01   Acc: 83.8773491592   MAUC: 0.974696238354\n",
      "Epochs: 10  Momen: 0.9   LR: 0.1    Acc: 73.1948565776   MAUC: 0.943545026263\n",
      "Epochs: 20  Momen: 0.5   LR: 1e-05  Acc: 44.2631058358   MAUC: 0.837408122636\n",
      "Epochs: 20  Momen: 0.5   LR: 0.0001 Acc: 66.0237388724   MAUC: 0.914419379986\n",
      "Epochs: 20  Momen: 0.5   LR: 0.001  Acc: 78.0415430267   MAUC: 0.962438851198\n",
      "Epochs: 20  Momen: 0.5   LR: 0.01   Acc: 82.4431256182   MAUC: 0.97075021438\n",
      "Epochs: 20  Momen: 0.5   LR: 0.1    Acc: 83.0365974283   MAUC: 0.971740528911\n",
      "Epochs: 20  Momen: 0.75  LR: 1e-05  Acc: 77.9920870425   MAUC: 0.960539738582\n",
      "Epochs: 20  Momen: 0.75  LR: 0.0001 Acc: 81.7507418398   MAUC: 0.971197685926\n",
      "Epochs: 20  Momen: 0.75  LR: 0.001  Acc: 83.5806132542   MAUC: 0.972409096604\n",
      "Epochs: 20  Momen: 0.75  LR: 0.01   Acc: 83.4322453017   MAUC: 0.972591340676\n",
      "Epochs: 20  Momen: 0.75  LR: 0.1    Acc: 83.9268051434   MAUC: 0.972464353542\n",
      "Epochs: 20  Momen: 0.9   LR: 1e-05  Acc: 81.256181998    MAUC: 0.966380641977\n",
      "Epochs: 20  Momen: 0.9   LR: 0.0001 Acc: 82.7398615232   MAUC: 0.971564725348\n",
      "Epochs: 20  Momen: 0.9   LR: 0.001  Acc: 83.53115727     MAUC: 0.974026405149\n",
      "Epochs: 20  Momen: 0.9   LR: 0.01   Acc: 84.4708209693   MAUC: 0.9728447047\n",
      "Epochs: 20  Momen: 0.9   LR: 0.1    Acc: 79.5746785361   MAUC: 0.963795934236\n",
      "Epochs: 40  Momen: 0.5   LR: 1e-05  Acc: 63.1552917903   MAUC: 0.904288918174\n",
      "Epochs: 40  Momen: 0.5   LR: 0.0001 Acc: 78.5361028684   MAUC: 0.95879438122\n",
      "Epochs: 40  Momen: 0.5   LR: 0.001  Acc: 82.5420375865   MAUC: 0.970572793927\n",
      "Epochs: 40  Momen: 0.5   LR: 0.01   Acc: 83.5806132542   MAUC: 0.972264565063\n",
      "Epochs: 40  Momen: 0.5   LR: 0.1    Acc: 84.0751730959   MAUC: 0.97229970412\n",
      "Epochs: 40  Momen: 0.75  LR: 1e-05  Acc: 81.8001978239   MAUC: 0.968937187418\n",
      "Epochs: 40  Momen: 0.75  LR: 0.0001 Acc: 84.0257171118   MAUC: 0.97229370623\n",
      "Epochs: 40  Momen: 0.75  LR: 0.001  Acc: 83.53115727     MAUC: 0.973321380584\n",
      "Epochs: 40  Momen: 0.75  LR: 0.01   Acc: 84.371909001    MAUC: 0.973268021738\n",
      "Epochs: 40  Momen: 0.75  LR: 0.1    Acc: 83.6795252226   MAUC: 0.973301431236\n",
      "Epochs: 40  Momen: 0.9   LR: 1e-05  Acc: 83.0860534125   MAUC: 0.972048333697\n",
      "Epochs: 40  Momen: 0.9   LR: 0.0001 Acc: 83.8278931751   MAUC: 0.972515206061\n",
      "Epochs: 40  Momen: 0.9   LR: 0.001  Acc: 83.7289812067   MAUC: 0.972709172482\n",
      "Epochs: 40  Momen: 0.9   LR: 0.01   Acc: 83.8278931751   MAUC: 0.972791934591\n",
      "Epochs: 40  Momen: 0.9   LR: 0.1    Acc: 84.0257171118   MAUC: 0.969714361398\n",
      "Epochs: 60  Momen: 0.5   LR: 1e-05  Acc: 78.0909990109   MAUC: 0.955786017997\n",
      "Epochs: 60  Momen: 0.5   LR: 0.0001 Acc: 82.8882294758   MAUC: 0.968290607133\n",
      "Epochs: 60  Momen: 0.5   LR: 0.001  Acc: 84.1740850643   MAUC: 0.971518322603\n",
      "Epochs: 60  Momen: 0.5   LR: 0.01   Acc: 84.8170128586   MAUC: 0.971216278018\n",
      "Epochs: 60  Momen: 0.5   LR: 0.1    Acc: 85.0642927794   MAUC: 0.971904624455\n",
      "Epochs: 60  Momen: 0.75  LR: 1e-05  Acc: 83.5806132542   MAUC: 0.971999141203\n",
      "Epochs: 60  Momen: 0.75  LR: 0.0001 Acc: 83.8773491592   MAUC: 0.973636204213\n",
      "Epochs: 60  Momen: 0.75  LR: 0.001  Acc: 84.3224530168   MAUC: 0.972755145038\n",
      "Epochs: 60  Momen: 0.75  LR: 0.01   Acc: 84.2235410485   MAUC: 0.974139422477\n",
      "Epochs: 60  Momen: 0.75  LR: 0.1    Acc: 84.2235410485   MAUC: 0.97028674689\n",
      "Epochs: 60  Momen: 0.9   LR: 1e-05  Acc: 83.7784371909   MAUC: 0.971311561961\n",
      "Epochs: 60  Momen: 0.9   LR: 0.0001 Acc: 84.2235410485   MAUC: 0.971672377589\n",
      "Epochs: 60  Momen: 0.9   LR: 0.001  Acc: 84.9653808111   MAUC: 0.973429476224\n",
      "Epochs: 60  Momen: 0.9   LR: 0.01   Acc: 84.1740850643   MAUC: 0.970794574276\n",
      "Epochs: 60  Momen: 0.9   LR: 0.1    Acc: 83.8278931751   MAUC: 0.970890216115\n"
     ]
    }
   ],
   "source": [
    "highest = {\"Overall Accuracy\" : 0}\n",
    "for row in data:\n",
    "    printRowInfo(row)"
   ]
  },
  {
   "cell_type": "code",
   "execution_count": 5,
   "metadata": {},
   "outputs": [
    {
     "name": "stdout",
     "output_type": "stream",
     "text": [
      "Epochs: 10  Momen: 0.5   LR: 0.001  Acc: 92.9772502473   MAUC: 0.992667738848\n",
      "Epochs: 10  Momen: 0.5   LR: 0.001  Acc: 92.9772502473   MAUC: 0.992667738848\n"
     ]
    }
   ],
   "source": [
    "highest_acc = {\"Overall Accuracy\" : 0}\n",
    "highest_auc = {\"MAUC Score\" : 0}\n",
    "for row in data:\n",
    "    if (float(highest_acc[\"Overall Accuracy\"]) < float(row[\"Overall Accuracy\"])):\n",
    "        highest_acc = row\n",
    "    if (float(highest_auc[\"MAUC Score\"]) < float(row[\"MAUC Score\"])):\n",
    "        highest_auc = row\n",
    "printRowInfo(highest_acc)\n",
    "printRowInfo(highest_auc)"
   ]
  },
  {
   "cell_type": "code",
   "execution_count": 6,
   "metadata": {},
   "outputs": [],
   "source": [
    "data_index = {}\n",
    "data_index2 = {}\n",
    "for row in data:\n",
    "    if row[\"Net Type\"] == \"resnet\":\n",
    "        if not row[\"Momentum\"] in data_index:\n",
    "            data_index[row[\"Momentum\"]] = {}\n",
    "        if not row[\"Learning Rate\"] in data_index[row[\"Momentum\"]]:\n",
    "            data_index[row[\"Momentum\"]][row[\"Learning Rate\"]] = {\"Epochs\": [], \"Acc\": [], \"MAUC\": []}\n",
    "        data_index[row[\"Momentum\"]][row[\"Learning Rate\"]][\"Epochs\"].append(float(row[\"Epochs\"]))\n",
    "        data_index[row[\"Momentum\"]][row[\"Learning Rate\"]][\"Acc\"].append(float(row[\"Overall Accuracy\"]))\n",
    "        data_index[row[\"Momentum\"]][row[\"Learning Rate\"]][\"MAUC\"].append(float(row[\"MAUC Score\"]))\n",
    "        if not row[\"Learning Rate\"] in data_index2:\n",
    "            data_index2[row[\"Learning Rate\"]] = {}\n",
    "        if not row[\"Momentum\"] in data_index2[row[\"Learning Rate\"]]:\n",
    "            data_index2[row[\"Learning Rate\"]][row[\"Momentum\"]] = {\"Epochs\": [], \"Acc\": [], \"MAUC\": []}\n",
    "        data_index2[row[\"Learning Rate\"]][row[\"Momentum\"]][\"Epochs\"].append(float(row[\"Epochs\"]))\n",
    "        data_index2[row[\"Learning Rate\"]][row[\"Momentum\"]][\"Acc\"].append(float(row[\"Overall Accuracy\"]))\n",
    "        data_index2[row[\"Learning Rate\"]][row[\"Momentum\"]][\"MAUC\"].append(float(row[\"MAUC Score\"]))"
   ]
  },
  {
   "cell_type": "code",
   "execution_count": 7,
   "metadata": {},
   "outputs": [],
   "source": [
    "import matplotlib\n",
    "matplotlib.use('Agg')\n",
    "import matplotlib.pyplot as plt"
   ]
  },
  {
   "cell_type": "code",
   "execution_count": 63,
   "metadata": {},
   "outputs": [],
   "source": [
    "for momen in data_index:\n",
    "    plt.figure()\n",
    "    plt.ylim([50.0,100.0])\n",
    "    title = \"Accuracy of \" + \"Resnet with momentum = \" + str(momen)\n",
    "    plt.title(title)\n",
    "    plt.xlabel(\"Epochs\")\n",
    "    plt.ylabel(\"Accuracy\")\n",
    "    for lr in data_index[momen]:\n",
    "        plt.plot(data_index[momen][lr][\"Epochs\"],data_index[momen][lr][\"Acc\"],label=str(lr))\n",
    "    plt.legend()\n",
    "    plt.savefig(title + \".jpg\")\n",
    "    plt.close()"
   ]
  },
  {
   "cell_type": "code",
   "execution_count": 60,
   "metadata": {},
   "outputs": [],
   "source": [
    "for lr in data_index2:\n",
    "    plt.figure()\n",
    "    plt.ylim([50.0,100.0])\n",
    "    title = \"Accuracy of \" + \"Resnet with learning rate = \" + str(lr)\n",
    "    plt.title(title)\n",
    "    plt.xlabel(\"Epochs\")\n",
    "    plt.ylabel(\"Accuracy\")\n",
    "    for momen in data_index2[lr]:\n",
    "        plt.plot(data_index2[lr][momen][\"Epochs\"],data_index2[lr][momen][\"Acc\"],label=str(momen))\n",
    "    plt.legend()\n",
    "    plt.savefig(title + \".jpg\")\n",
    "    plt.close()"
   ]
  },
  {
   "cell_type": "code",
   "execution_count": 64,
   "metadata": {},
   "outputs": [],
   "source": [
    "for lr in data_index2:\n",
    "    plt.figure()\n",
    "    plt.ylim([.8,1.0])\n",
    "    title = \"MAUC Scores of \" + \"Resnet with learning rate = \" + str(lr)\n",
    "    plt.title(title)\n",
    "    plt.xlabel(\"Epochs\")\n",
    "    plt.ylabel(\"MAUC Score\")\n",
    "    for momen in data_index2[lr]:\n",
    "        plt.plot(data_index2[lr][momen][\"Epochs\"],data_index2[lr][momen][\"MAUC\"],label=str(momen))\n",
    "    plt.legend()\n",
    "    plt.savefig(title + \".jpg\")\n",
    "    plt.close()"
   ]
  },
  {
   "cell_type": "code",
   "execution_count": 65,
   "metadata": {},
   "outputs": [],
   "source": [
    "for momen in data_index:\n",
    "    plt.figure()\n",
    "    plt.ylim([.8,1.0])\n",
    "    title = \"MAUC Scores of \" +  \"Resnet with momentum = \" + str(momen)\n",
    "    plt.title(title)\n",
    "    plt.xlabel(\"Epochs\")\n",
    "    plt.ylabel(\"MAUC Score\")\n",
    "    for lr in data_index[momen]:\n",
    "        plt.plot(data_index[momen][lr][\"Epochs\"],data_index[momen][lr][\"MAUC\"],label=str(lr))\n",
    "    plt.legend()\n",
    "    plt.savefig(title + \".jpg\")\n",
    "    plt.close()"
   ]
  },
  {
   "cell_type": "code",
   "execution_count": 46,
   "metadata": {},
   "outputs": [],
   "source": [
    "momentums = [\"0.5\",\"0.75\",\"0.9\"]\n",
    "learning_rates = [\"0.1\",\"0.01\",\"0.001\",\"0.0001\",\"1e-05\"]\n",
    "\n",
    "hm_data = np.zeros((3,5))\n",
    "for i in range(len(momentums)):\n",
    "    for j in range(len(learning_rates)):\n",
    "        hm_data[i][j] = np.max(data_index[momentums[i]][learning_rates[j]][\"Acc\"])\n",
    "        \n",
    "hm_data2 = np.zeros((3,5))\n",
    "for i in range(len(momentums)):\n",
    "    for j in range(len(learning_rates)):\n",
    "        max = 0\n",
    "        dat = data_index[momentums[i]][learning_rates[j]]\n",
    "        for k in range(len(dat)):\n",
    "            if not dat[\"Epochs\"][k] == 10:\n",
    "                if max < dat[\"Acc\"][k]:\n",
    "                    max = dat[\"Acc\"][k]\n",
    "        hm_data2[i][j] = max"
   ]
  },
  {
   "cell_type": "code",
   "execution_count": 26,
   "metadata": {},
   "outputs": [],
   "source": [
    "import seaborn as sns"
   ]
  },
  {
   "cell_type": "code",
   "execution_count": 70,
   "metadata": {
    "scrolled": true
   },
   "outputs": [],
   "source": [
    "plt.figure()\n",
    "sns.heatmap(hm_data, yticklabels=momentums, xticklabels=learning_rates)\n",
    "plt.title(\"Accuracy of Resnet for best epoch\")\n",
    "plt.xlabel(\"Momentum\")\n",
    "plt.ylabel(\"Learning Rate\")\n",
    "plt.savefig(\"Acc_heatmap.jpg\")\n",
    "plt.close()\n",
    "\n",
    "\n",
    "plt.figure()\n",
    "sns.heatmap(hm_data2, yticklabels=momentums, xticklabels=learning_rates, vmin = 81)\n",
    "plt.title(\"Accuracy of Resnet for best epoch excluding 10\")\n",
    "plt.xlabel(\"Momentum\")\n",
    "plt.ylabel(\"Learning Rate\")\n",
    "plt.savefig(\"Acc_heatmap_no10epochs.jpg\")\n",
    "plt.close()"
   ]
  },
  {
   "cell_type": "code",
   "execution_count": 68,
   "metadata": {},
   "outputs": [],
   "source": [
    "momentums = [\"0.5\",\"0.75\",\"0.9\"]\n",
    "learning_rates = [\"0.1\",\"0.01\",\"0.001\",\"0.0001\",\"1e-05\"]\n",
    "\n",
    "hm_data3 = np.zeros((3,5))\n",
    "for i in range(len(momentums)):\n",
    "    for j in range(len(learning_rates)):\n",
    "        hm_data3[i][j] = np.max(data_index[momentums[i]][learning_rates[j]][\"MAUC\"])\n",
    "        \n",
    "hm_data4 = np.zeros((3,5))\n",
    "for i in range(len(momentums)):\n",
    "    for j in range(len(learning_rates)):\n",
    "        max = 0\n",
    "        dat = data_index[momentums[i]][learning_rates[j]]\n",
    "        for k in range(len(dat)):\n",
    "            if not dat[\"Epochs\"][k] == 10:\n",
    "                if max < dat[\"MAUC\"][k]:\n",
    "                    max = dat[\"MAUC\"][k]\n",
    "        hm_data4[i][j] = max"
   ]
  },
  {
   "cell_type": "code",
   "execution_count": 74,
   "metadata": {},
   "outputs": [],
   "source": [
    "plt.figure()\n",
    "sns.heatmap(hm_data3, yticklabels=momentums, xticklabels=learning_rates)\n",
    "plt.title(\"MAUC Score of Resnet for best epoch\")\n",
    "plt.xlabel(\"Momentum\")\n",
    "plt.ylabel(\"Learning Rate\")\n",
    "plt.savefig(\"MAUC_heatmap.jpg\")\n",
    "plt.close()\n",
    "\n",
    "\n",
    "plt.figure()\n",
    "sns.heatmap(hm_data4, yticklabels=momentums, xticklabels=learning_rates, vmin = .95)\n",
    "plt.title(\"MAUC Score of Resnet for best epoch excluding 10\")\n",
    "plt.xlabel(\"Momentum\")\n",
    "plt.ylabel(\"Learning Rate\")\n",
    "plt.savefig(\"MAUC_heatmap_no10epochs.jpg\")\n",
    "plt.close()"
   ]
  },
  {
   "cell_type": "code",
   "execution_count": null,
   "metadata": {},
   "outputs": [],
   "source": []
  }
 ],
 "metadata": {
  "kernelspec": {
   "display_name": "Python 3",
   "language": "python",
   "name": "python3"
  },
  "language_info": {
   "codemirror_mode": {
    "name": "ipython",
    "version": 3
   },
   "file_extension": ".py",
   "mimetype": "text/x-python",
   "name": "python",
   "nbconvert_exporter": "python",
   "pygments_lexer": "ipython3",
   "version": "3.6.4"
  }
 },
 "nbformat": 4,
 "nbformat_minor": 2
}
